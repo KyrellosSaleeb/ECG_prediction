{
 "cells": [
  {
   "cell_type": "code",
   "execution_count": 1,
   "id": "734a0f05",
   "metadata": {
    "_cell_guid": "b1076dfc-b9ad-4769-8c92-a6c4dae69d19",
    "_uuid": "8f2839f25d086af736a60e9eeb907d3b93b6e0e5",
    "execution": {
     "iopub.execute_input": "2025-04-08T12:34:16.573914Z",
     "iopub.status.busy": "2025-04-08T12:34:16.573591Z",
     "iopub.status.idle": "2025-04-08T12:34:19.624749Z",
     "shell.execute_reply": "2025-04-08T12:34:19.623378Z"
    },
    "papermill": {
     "duration": 3.062473,
     "end_time": "2025-04-08T12:34:19.626729",
     "exception": false,
     "start_time": "2025-04-08T12:34:16.564256",
     "status": "completed"
    },
    "tags": []
   },
   "outputs": [
    {
     "name": "stdout",
     "output_type": "stream",
     "text": [
      "/kaggle/input/dsaa-6100-titanic-survival-using-decision-trees/train.csv\n",
      "/kaggle/input/dsaa-6100-titanic-survival-using-decision-trees/test.csv\n",
      "/kaggle/input/dsaa-6100-titanic-survival-using-decision-trees/gender_submission.csv\n"
     ]
    }
   ],
   "source": [
    "# This Python 3 environment comes with many helpful analytics libraries installed\n",
    "# It is defined by the kaggle/python Docker image: https://github.com/kaggle/docker-python\n",
    "# For example, here's several helpful packages to load\n",
    "\n",
    "import numpy as np # linear algebra\n",
    "import pandas as pd # data processing, CSV file I/O (e.g. pd.read_csv)\n",
    "from sklearn.tree import DecisionTreeClassifier\n",
    "from sklearn.model_selection import train_test_split\n",
    "from sklearn.metrics import accuracy_score\n",
    "from sklearn.ensemble import RandomForestClassifier\n",
    "from scipy.stats import zscore\n",
    "from sklearn.ensemble import BaggingClassifier\n",
    "\n",
    "# Input data files are available in the read-only \"../input/\" directory\n",
    "# For example, running this (by clicking run or pressing Shift+Enter) will list all files under the input directory\n",
    "\n",
    "import os\n",
    "for dirname, _, filenames in os.walk('/kaggle/input'):\n",
    "    for filename in filenames:\n",
    "        print(os.path.join(dirname, filename))\n",
    "\n",
    "# You can write up to 20GB to the current directory (/kaggle/working/) that gets preserved as output when you create a version using \"Save & Run All\" \n",
    "# You can also write temporary files to /kaggle/temp/, but they won't be saved outside of the current session"
   ]
  },
  {
   "cell_type": "code",
   "execution_count": 2,
   "id": "6c58b251",
   "metadata": {
    "execution": {
     "iopub.execute_input": "2025-04-08T12:34:19.645190Z",
     "iopub.status.busy": "2025-04-08T12:34:19.644673Z",
     "iopub.status.idle": "2025-04-08T12:34:19.703918Z",
     "shell.execute_reply": "2025-04-08T12:34:19.702653Z"
    },
    "papermill": {
     "duration": 0.070538,
     "end_time": "2025-04-08T12:34:19.705750",
     "exception": false,
     "start_time": "2025-04-08T12:34:19.635212",
     "status": "completed"
    },
    "tags": []
   },
   "outputs": [
    {
     "name": "stderr",
     "output_type": "stream",
     "text": [
      "/usr/local/lib/python3.10/dist-packages/pandas/io/formats/format.py:1458: RuntimeWarning: invalid value encountered in greater\n",
      "  has_large_values = (abs_vals > 1e6).any()\n",
      "/usr/local/lib/python3.10/dist-packages/pandas/io/formats/format.py:1459: RuntimeWarning: invalid value encountered in less\n",
      "  has_small_values = ((abs_vals < 10 ** (-self.digits)) & (abs_vals > 0)).any()\n",
      "/usr/local/lib/python3.10/dist-packages/pandas/io/formats/format.py:1459: RuntimeWarning: invalid value encountered in greater\n",
      "  has_small_values = ((abs_vals < 10 ** (-self.digits)) & (abs_vals > 0)).any()\n"
     ]
    },
    {
     "data": {
      "text/html": [
       "<div>\n",
       "<style scoped>\n",
       "    .dataframe tbody tr th:only-of-type {\n",
       "        vertical-align: middle;\n",
       "    }\n",
       "\n",
       "    .dataframe tbody tr th {\n",
       "        vertical-align: top;\n",
       "    }\n",
       "\n",
       "    .dataframe thead th {\n",
       "        text-align: right;\n",
       "    }\n",
       "</style>\n",
       "<table border=\"1\" class=\"dataframe\">\n",
       "  <thead>\n",
       "    <tr style=\"text-align: right;\">\n",
       "      <th></th>\n",
       "      <th>PassengerId</th>\n",
       "      <th>Survived</th>\n",
       "      <th>Pclass</th>\n",
       "      <th>Name</th>\n",
       "      <th>Sex</th>\n",
       "      <th>Age</th>\n",
       "      <th>SibSp</th>\n",
       "      <th>Parch</th>\n",
       "      <th>Ticket</th>\n",
       "      <th>Fare</th>\n",
       "      <th>Cabin</th>\n",
       "      <th>Embarked</th>\n",
       "    </tr>\n",
       "  </thead>\n",
       "  <tbody>\n",
       "    <tr>\n",
       "      <th>0</th>\n",
       "      <td>1</td>\n",
       "      <td>0</td>\n",
       "      <td>3</td>\n",
       "      <td>Braund, Mr. Owen Harris</td>\n",
       "      <td>male</td>\n",
       "      <td>22.0</td>\n",
       "      <td>1</td>\n",
       "      <td>0</td>\n",
       "      <td>A/5 21171</td>\n",
       "      <td>7.2500</td>\n",
       "      <td>NaN</td>\n",
       "      <td>S</td>\n",
       "    </tr>\n",
       "    <tr>\n",
       "      <th>1</th>\n",
       "      <td>2</td>\n",
       "      <td>1</td>\n",
       "      <td>1</td>\n",
       "      <td>Cumings, Mrs. John Bradley (Florence Briggs Th...</td>\n",
       "      <td>female</td>\n",
       "      <td>38.0</td>\n",
       "      <td>1</td>\n",
       "      <td>0</td>\n",
       "      <td>PC 17599</td>\n",
       "      <td>71.2833</td>\n",
       "      <td>C85</td>\n",
       "      <td>C</td>\n",
       "    </tr>\n",
       "    <tr>\n",
       "      <th>2</th>\n",
       "      <td>3</td>\n",
       "      <td>1</td>\n",
       "      <td>3</td>\n",
       "      <td>Heikkinen, Miss. Laina</td>\n",
       "      <td>female</td>\n",
       "      <td>26.0</td>\n",
       "      <td>0</td>\n",
       "      <td>0</td>\n",
       "      <td>STON/O2. 3101282</td>\n",
       "      <td>7.9250</td>\n",
       "      <td>NaN</td>\n",
       "      <td>S</td>\n",
       "    </tr>\n",
       "    <tr>\n",
       "      <th>3</th>\n",
       "      <td>4</td>\n",
       "      <td>1</td>\n",
       "      <td>1</td>\n",
       "      <td>Futrelle, Mrs. Jacques Heath (Lily May Peel)</td>\n",
       "      <td>female</td>\n",
       "      <td>35.0</td>\n",
       "      <td>1</td>\n",
       "      <td>0</td>\n",
       "      <td>113803</td>\n",
       "      <td>53.1000</td>\n",
       "      <td>C123</td>\n",
       "      <td>S</td>\n",
       "    </tr>\n",
       "    <tr>\n",
       "      <th>4</th>\n",
       "      <td>5</td>\n",
       "      <td>0</td>\n",
       "      <td>3</td>\n",
       "      <td>Allen, Mr. William Henry</td>\n",
       "      <td>male</td>\n",
       "      <td>35.0</td>\n",
       "      <td>0</td>\n",
       "      <td>0</td>\n",
       "      <td>373450</td>\n",
       "      <td>8.0500</td>\n",
       "      <td>NaN</td>\n",
       "      <td>S</td>\n",
       "    </tr>\n",
       "    <tr>\n",
       "      <th>...</th>\n",
       "      <td>...</td>\n",
       "      <td>...</td>\n",
       "      <td>...</td>\n",
       "      <td>...</td>\n",
       "      <td>...</td>\n",
       "      <td>...</td>\n",
       "      <td>...</td>\n",
       "      <td>...</td>\n",
       "      <td>...</td>\n",
       "      <td>...</td>\n",
       "      <td>...</td>\n",
       "      <td>...</td>\n",
       "    </tr>\n",
       "    <tr>\n",
       "      <th>886</th>\n",
       "      <td>887</td>\n",
       "      <td>0</td>\n",
       "      <td>2</td>\n",
       "      <td>Montvila, Rev. Juozas</td>\n",
       "      <td>male</td>\n",
       "      <td>27.0</td>\n",
       "      <td>0</td>\n",
       "      <td>0</td>\n",
       "      <td>211536</td>\n",
       "      <td>13.0000</td>\n",
       "      <td>NaN</td>\n",
       "      <td>S</td>\n",
       "    </tr>\n",
       "    <tr>\n",
       "      <th>887</th>\n",
       "      <td>888</td>\n",
       "      <td>1</td>\n",
       "      <td>1</td>\n",
       "      <td>Graham, Miss. Margaret Edith</td>\n",
       "      <td>female</td>\n",
       "      <td>19.0</td>\n",
       "      <td>0</td>\n",
       "      <td>0</td>\n",
       "      <td>112053</td>\n",
       "      <td>30.0000</td>\n",
       "      <td>B42</td>\n",
       "      <td>S</td>\n",
       "    </tr>\n",
       "    <tr>\n",
       "      <th>888</th>\n",
       "      <td>889</td>\n",
       "      <td>0</td>\n",
       "      <td>3</td>\n",
       "      <td>Johnston, Miss. Catherine Helen \"Carrie\"</td>\n",
       "      <td>female</td>\n",
       "      <td>NaN</td>\n",
       "      <td>1</td>\n",
       "      <td>2</td>\n",
       "      <td>W./C. 6607</td>\n",
       "      <td>23.4500</td>\n",
       "      <td>NaN</td>\n",
       "      <td>S</td>\n",
       "    </tr>\n",
       "    <tr>\n",
       "      <th>889</th>\n",
       "      <td>890</td>\n",
       "      <td>1</td>\n",
       "      <td>1</td>\n",
       "      <td>Behr, Mr. Karl Howell</td>\n",
       "      <td>male</td>\n",
       "      <td>26.0</td>\n",
       "      <td>0</td>\n",
       "      <td>0</td>\n",
       "      <td>111369</td>\n",
       "      <td>30.0000</td>\n",
       "      <td>C148</td>\n",
       "      <td>C</td>\n",
       "    </tr>\n",
       "    <tr>\n",
       "      <th>890</th>\n",
       "      <td>891</td>\n",
       "      <td>0</td>\n",
       "      <td>3</td>\n",
       "      <td>Dooley, Mr. Patrick</td>\n",
       "      <td>male</td>\n",
       "      <td>32.0</td>\n",
       "      <td>0</td>\n",
       "      <td>0</td>\n",
       "      <td>370376</td>\n",
       "      <td>7.7500</td>\n",
       "      <td>NaN</td>\n",
       "      <td>Q</td>\n",
       "    </tr>\n",
       "  </tbody>\n",
       "</table>\n",
       "<p>891 rows × 12 columns</p>\n",
       "</div>"
      ],
      "text/plain": [
       "     PassengerId  Survived  Pclass  \\\n",
       "0              1         0       3   \n",
       "1              2         1       1   \n",
       "2              3         1       3   \n",
       "3              4         1       1   \n",
       "4              5         0       3   \n",
       "..           ...       ...     ...   \n",
       "886          887         0       2   \n",
       "887          888         1       1   \n",
       "888          889         0       3   \n",
       "889          890         1       1   \n",
       "890          891         0       3   \n",
       "\n",
       "                                                  Name     Sex   Age  SibSp  \\\n",
       "0                              Braund, Mr. Owen Harris    male  22.0      1   \n",
       "1    Cumings, Mrs. John Bradley (Florence Briggs Th...  female  38.0      1   \n",
       "2                               Heikkinen, Miss. Laina  female  26.0      0   \n",
       "3         Futrelle, Mrs. Jacques Heath (Lily May Peel)  female  35.0      1   \n",
       "4                             Allen, Mr. William Henry    male  35.0      0   \n",
       "..                                                 ...     ...   ...    ...   \n",
       "886                              Montvila, Rev. Juozas    male  27.0      0   \n",
       "887                       Graham, Miss. Margaret Edith  female  19.0      0   \n",
       "888           Johnston, Miss. Catherine Helen \"Carrie\"  female   NaN      1   \n",
       "889                              Behr, Mr. Karl Howell    male  26.0      0   \n",
       "890                                Dooley, Mr. Patrick    male  32.0      0   \n",
       "\n",
       "     Parch            Ticket     Fare Cabin Embarked  \n",
       "0        0         A/5 21171   7.2500   NaN        S  \n",
       "1        0          PC 17599  71.2833   C85        C  \n",
       "2        0  STON/O2. 3101282   7.9250   NaN        S  \n",
       "3        0            113803  53.1000  C123        S  \n",
       "4        0            373450   8.0500   NaN        S  \n",
       "..     ...               ...      ...   ...      ...  \n",
       "886      0            211536  13.0000   NaN        S  \n",
       "887      0            112053  30.0000   B42        S  \n",
       "888      2        W./C. 6607  23.4500   NaN        S  \n",
       "889      0            111369  30.0000  C148        C  \n",
       "890      0            370376   7.7500   NaN        Q  \n",
       "\n",
       "[891 rows x 12 columns]"
      ]
     },
     "execution_count": 2,
     "metadata": {},
     "output_type": "execute_result"
    }
   ],
   "source": [
    "df = pd.read_csv(\"/kaggle/input/dsaa-6100-titanic-survival-using-decision-trees/train.csv\")\n",
    "df"
   ]
  },
  {
   "cell_type": "code",
   "execution_count": 3,
   "id": "628e1674",
   "metadata": {
    "execution": {
     "iopub.execute_input": "2025-04-08T12:34:19.723841Z",
     "iopub.status.busy": "2025-04-08T12:34:19.723509Z",
     "iopub.status.idle": "2025-04-08T12:34:19.729271Z",
     "shell.execute_reply": "2025-04-08T12:34:19.728293Z"
    },
    "papermill": {
     "duration": 0.016196,
     "end_time": "2025-04-08T12:34:19.730752",
     "exception": false,
     "start_time": "2025-04-08T12:34:19.714556",
     "status": "completed"
    },
    "tags": []
   },
   "outputs": [
    {
     "data": {
      "text/plain": [
       "Index(['PassengerId', 'Survived', 'Pclass', 'Name', 'Sex', 'Age', 'SibSp',\n",
       "       'Parch', 'Ticket', 'Fare', 'Cabin', 'Embarked'],\n",
       "      dtype='object')"
      ]
     },
     "execution_count": 3,
     "metadata": {},
     "output_type": "execute_result"
    }
   ],
   "source": [
    "df.columns"
   ]
  },
  {
   "cell_type": "code",
   "execution_count": 4,
   "id": "b8d25f7f",
   "metadata": {
    "execution": {
     "iopub.execute_input": "2025-04-08T12:34:19.748628Z",
     "iopub.status.busy": "2025-04-08T12:34:19.748263Z",
     "iopub.status.idle": "2025-04-08T12:34:19.751919Z",
     "shell.execute_reply": "2025-04-08T12:34:19.751091Z"
    },
    "papermill": {
     "duration": 0.014409,
     "end_time": "2025-04-08T12:34:19.753530",
     "exception": false,
     "start_time": "2025-04-08T12:34:19.739121",
     "status": "completed"
    },
    "tags": []
   },
   "outputs": [],
   "source": [
    "#df[\"FamilySize\"] = df[\"SibSp\"] + df[\"Parch\"] + 1\n",
    "#df[\"FamilySize\"].value_counts().sort_index()\n",
    "#df.groupby(\"Survived\")[\"FamilySize\"].value_counts().sort_index()\n",
    "#df.head()"
   ]
  },
  {
   "cell_type": "code",
   "execution_count": 5,
   "id": "a24c99ae",
   "metadata": {
    "execution": {
     "iopub.execute_input": "2025-04-08T12:34:19.770927Z",
     "iopub.status.busy": "2025-04-08T12:34:19.770577Z",
     "iopub.status.idle": "2025-04-08T12:34:19.788468Z",
     "shell.execute_reply": "2025-04-08T12:34:19.787261Z"
    },
    "papermill": {
     "duration": 0.0283,
     "end_time": "2025-04-08T12:34:19.789922",
     "exception": false,
     "start_time": "2025-04-08T12:34:19.761622",
     "status": "completed"
    },
    "tags": []
   },
   "outputs": [
    {
     "name": "stderr",
     "output_type": "stream",
     "text": [
      "/usr/local/lib/python3.10/dist-packages/pandas/io/formats/format.py:1458: RuntimeWarning: invalid value encountered in greater\n",
      "  has_large_values = (abs_vals > 1e6).any()\n",
      "/usr/local/lib/python3.10/dist-packages/pandas/io/formats/format.py:1459: RuntimeWarning: invalid value encountered in less\n",
      "  has_small_values = ((abs_vals < 10 ** (-self.digits)) & (abs_vals > 0)).any()\n",
      "/usr/local/lib/python3.10/dist-packages/pandas/io/formats/format.py:1459: RuntimeWarning: invalid value encountered in greater\n",
      "  has_small_values = ((abs_vals < 10 ** (-self.digits)) & (abs_vals > 0)).any()\n"
     ]
    },
    {
     "data": {
      "text/html": [
       "<div>\n",
       "<style scoped>\n",
       "    .dataframe tbody tr th:only-of-type {\n",
       "        vertical-align: middle;\n",
       "    }\n",
       "\n",
       "    .dataframe tbody tr th {\n",
       "        vertical-align: top;\n",
       "    }\n",
       "\n",
       "    .dataframe thead th {\n",
       "        text-align: right;\n",
       "    }\n",
       "</style>\n",
       "<table border=\"1\" class=\"dataframe\">\n",
       "  <thead>\n",
       "    <tr style=\"text-align: right;\">\n",
       "      <th></th>\n",
       "      <th>Survived</th>\n",
       "      <th>Pclass</th>\n",
       "      <th>Sex</th>\n",
       "      <th>Age</th>\n",
       "      <th>SibSp</th>\n",
       "      <th>Parch</th>\n",
       "      <th>Fare</th>\n",
       "    </tr>\n",
       "  </thead>\n",
       "  <tbody>\n",
       "    <tr>\n",
       "      <th>0</th>\n",
       "      <td>0</td>\n",
       "      <td>3</td>\n",
       "      <td>male</td>\n",
       "      <td>22.0</td>\n",
       "      <td>1</td>\n",
       "      <td>0</td>\n",
       "      <td>7.2500</td>\n",
       "    </tr>\n",
       "    <tr>\n",
       "      <th>1</th>\n",
       "      <td>1</td>\n",
       "      <td>1</td>\n",
       "      <td>female</td>\n",
       "      <td>38.0</td>\n",
       "      <td>1</td>\n",
       "      <td>0</td>\n",
       "      <td>71.2833</td>\n",
       "    </tr>\n",
       "    <tr>\n",
       "      <th>2</th>\n",
       "      <td>1</td>\n",
       "      <td>3</td>\n",
       "      <td>female</td>\n",
       "      <td>26.0</td>\n",
       "      <td>0</td>\n",
       "      <td>0</td>\n",
       "      <td>7.9250</td>\n",
       "    </tr>\n",
       "    <tr>\n",
       "      <th>3</th>\n",
       "      <td>1</td>\n",
       "      <td>1</td>\n",
       "      <td>female</td>\n",
       "      <td>35.0</td>\n",
       "      <td>1</td>\n",
       "      <td>0</td>\n",
       "      <td>53.1000</td>\n",
       "    </tr>\n",
       "    <tr>\n",
       "      <th>4</th>\n",
       "      <td>0</td>\n",
       "      <td>3</td>\n",
       "      <td>male</td>\n",
       "      <td>35.0</td>\n",
       "      <td>0</td>\n",
       "      <td>0</td>\n",
       "      <td>8.0500</td>\n",
       "    </tr>\n",
       "    <tr>\n",
       "      <th>...</th>\n",
       "      <td>...</td>\n",
       "      <td>...</td>\n",
       "      <td>...</td>\n",
       "      <td>...</td>\n",
       "      <td>...</td>\n",
       "      <td>...</td>\n",
       "      <td>...</td>\n",
       "    </tr>\n",
       "    <tr>\n",
       "      <th>886</th>\n",
       "      <td>0</td>\n",
       "      <td>2</td>\n",
       "      <td>male</td>\n",
       "      <td>27.0</td>\n",
       "      <td>0</td>\n",
       "      <td>0</td>\n",
       "      <td>13.0000</td>\n",
       "    </tr>\n",
       "    <tr>\n",
       "      <th>887</th>\n",
       "      <td>1</td>\n",
       "      <td>1</td>\n",
       "      <td>female</td>\n",
       "      <td>19.0</td>\n",
       "      <td>0</td>\n",
       "      <td>0</td>\n",
       "      <td>30.0000</td>\n",
       "    </tr>\n",
       "    <tr>\n",
       "      <th>888</th>\n",
       "      <td>0</td>\n",
       "      <td>3</td>\n",
       "      <td>female</td>\n",
       "      <td>NaN</td>\n",
       "      <td>1</td>\n",
       "      <td>2</td>\n",
       "      <td>23.4500</td>\n",
       "    </tr>\n",
       "    <tr>\n",
       "      <th>889</th>\n",
       "      <td>1</td>\n",
       "      <td>1</td>\n",
       "      <td>male</td>\n",
       "      <td>26.0</td>\n",
       "      <td>0</td>\n",
       "      <td>0</td>\n",
       "      <td>30.0000</td>\n",
       "    </tr>\n",
       "    <tr>\n",
       "      <th>890</th>\n",
       "      <td>0</td>\n",
       "      <td>3</td>\n",
       "      <td>male</td>\n",
       "      <td>32.0</td>\n",
       "      <td>0</td>\n",
       "      <td>0</td>\n",
       "      <td>7.7500</td>\n",
       "    </tr>\n",
       "  </tbody>\n",
       "</table>\n",
       "<p>891 rows × 7 columns</p>\n",
       "</div>"
      ],
      "text/plain": [
       "     Survived  Pclass     Sex   Age  SibSp  Parch     Fare\n",
       "0           0       3    male  22.0      1      0   7.2500\n",
       "1           1       1  female  38.0      1      0  71.2833\n",
       "2           1       3  female  26.0      0      0   7.9250\n",
       "3           1       1  female  35.0      1      0  53.1000\n",
       "4           0       3    male  35.0      0      0   8.0500\n",
       "..        ...     ...     ...   ...    ...    ...      ...\n",
       "886         0       2    male  27.0      0      0  13.0000\n",
       "887         1       1  female  19.0      0      0  30.0000\n",
       "888         0       3  female   NaN      1      2  23.4500\n",
       "889         1       1    male  26.0      0      0  30.0000\n",
       "890         0       3    male  32.0      0      0   7.7500\n",
       "\n",
       "[891 rows x 7 columns]"
      ]
     },
     "execution_count": 5,
     "metadata": {},
     "output_type": "execute_result"
    }
   ],
   "source": [
    "df_Selected = df.drop(['PassengerId', 'Name','Ticket', 'Cabin', 'Embarked'], axis=1)\n",
    "df_Selected"
   ]
  },
  {
   "cell_type": "code",
   "execution_count": 6,
   "id": "3e854493",
   "metadata": {
    "execution": {
     "iopub.execute_input": "2025-04-08T12:34:19.807810Z",
     "iopub.status.busy": "2025-04-08T12:34:19.807473Z",
     "iopub.status.idle": "2025-04-08T12:34:19.817580Z",
     "shell.execute_reply": "2025-04-08T12:34:19.816398Z"
    },
    "papermill": {
     "duration": 0.02082,
     "end_time": "2025-04-08T12:34:19.819109",
     "exception": false,
     "start_time": "2025-04-08T12:34:19.798289",
     "status": "completed"
    },
    "tags": []
   },
   "outputs": [
    {
     "data": {
      "text/plain": [
       "Survived      0\n",
       "Pclass        0\n",
       "Sex           0\n",
       "Age         177\n",
       "SibSp         0\n",
       "Parch         0\n",
       "Fare          0\n",
       "dtype: int64"
      ]
     },
     "execution_count": 6,
     "metadata": {},
     "output_type": "execute_result"
    }
   ],
   "source": [
    "df_Selected.isnull().sum()"
   ]
  },
  {
   "cell_type": "code",
   "execution_count": 7,
   "id": "1d58a977",
   "metadata": {
    "execution": {
     "iopub.execute_input": "2025-04-08T12:34:19.838005Z",
     "iopub.status.busy": "2025-04-08T12:34:19.837644Z",
     "iopub.status.idle": "2025-04-08T12:34:19.852556Z",
     "shell.execute_reply": "2025-04-08T12:34:19.851493Z"
    },
    "papermill": {
     "duration": 0.02634,
     "end_time": "2025-04-08T12:34:19.854257",
     "exception": false,
     "start_time": "2025-04-08T12:34:19.827917",
     "status": "completed"
    },
    "tags": []
   },
   "outputs": [
    {
     "data": {
      "text/plain": [
       "Age\n",
       "30.626179    1\n",
       "28.343690    1\n",
       "Name: count, dtype: int64"
      ]
     },
     "execution_count": 7,
     "metadata": {},
     "output_type": "execute_result"
    }
   ],
   "source": [
    "df_Selected.groupby(\"Survived\")[\"Age\"].mean().value_counts()"
   ]
  },
  {
   "cell_type": "code",
   "execution_count": 8,
   "id": "576cd71d",
   "metadata": {
    "execution": {
     "iopub.execute_input": "2025-04-08T12:34:19.872695Z",
     "iopub.status.busy": "2025-04-08T12:34:19.872320Z",
     "iopub.status.idle": "2025-04-08T12:34:19.878864Z",
     "shell.execute_reply": "2025-04-08T12:34:19.877929Z"
    },
    "papermill": {
     "duration": 0.017859,
     "end_time": "2025-04-08T12:34:19.880652",
     "exception": false,
     "start_time": "2025-04-08T12:34:19.862793",
     "status": "completed"
    },
    "tags": []
   },
   "outputs": [],
   "source": [
    "df_Selected[\"Age\"] = df_Selected[\"Age\"].fillna(\n",
    "    df_Selected.groupby(\"Survived\")[\"Age\"].transform(\"mean\")\n",
    ")"
   ]
  },
  {
   "cell_type": "code",
   "execution_count": 9,
   "id": "f9d3dbf3",
   "metadata": {
    "execution": {
     "iopub.execute_input": "2025-04-08T12:34:19.899426Z",
     "iopub.status.busy": "2025-04-08T12:34:19.899035Z",
     "iopub.status.idle": "2025-04-08T12:34:19.906645Z",
     "shell.execute_reply": "2025-04-08T12:34:19.905614Z"
    },
    "papermill": {
     "duration": 0.018888,
     "end_time": "2025-04-08T12:34:19.908389",
     "exception": false,
     "start_time": "2025-04-08T12:34:19.889501",
     "status": "completed"
    },
    "tags": []
   },
   "outputs": [
    {
     "data": {
      "text/plain": [
       "Survived    0\n",
       "Pclass      0\n",
       "Sex         0\n",
       "Age         0\n",
       "SibSp       0\n",
       "Parch       0\n",
       "Fare        0\n",
       "dtype: int64"
      ]
     },
     "execution_count": 9,
     "metadata": {},
     "output_type": "execute_result"
    }
   ],
   "source": [
    "df_Selected.isnull().sum()"
   ]
  },
  {
   "cell_type": "code",
   "execution_count": 10,
   "id": "b306ff68",
   "metadata": {
    "execution": {
     "iopub.execute_input": "2025-04-08T12:34:19.927711Z",
     "iopub.status.busy": "2025-04-08T12:34:19.927364Z",
     "iopub.status.idle": "2025-04-08T12:34:19.933046Z",
     "shell.execute_reply": "2025-04-08T12:34:19.932171Z"
    },
    "papermill": {
     "duration": 0.016967,
     "end_time": "2025-04-08T12:34:19.934595",
     "exception": false,
     "start_time": "2025-04-08T12:34:19.917628",
     "status": "completed"
    },
    "tags": []
   },
   "outputs": [],
   "source": [
    "df_Selected[\"Sex\"] = df_Selected[\"Sex\"].map({\"male\": 0, \"female\": 1})"
   ]
  },
  {
   "cell_type": "code",
   "execution_count": 11,
   "id": "1a12ce74",
   "metadata": {
    "execution": {
     "iopub.execute_input": "2025-04-08T12:34:19.953708Z",
     "iopub.status.busy": "2025-04-08T12:34:19.953373Z",
     "iopub.status.idle": "2025-04-08T12:34:19.962708Z",
     "shell.execute_reply": "2025-04-08T12:34:19.961504Z"
    },
    "papermill": {
     "duration": 0.020902,
     "end_time": "2025-04-08T12:34:19.964413",
     "exception": false,
     "start_time": "2025-04-08T12:34:19.943511",
     "status": "completed"
    },
    "tags": []
   },
   "outputs": [
    {
     "name": "stdout",
     "output_type": "stream",
     "text": [
      "Outliers detected using Z-score in Age: 7 outliers\n"
     ]
    }
   ],
   "source": [
    "df_Selected['Age_zscore'] = zscore(df_Selected['Age'])\n",
    "outliers_zscore = df_Selected[(df_Selected['Age_zscore'] > 3) | (df_Selected['Age_zscore'] < -3)]\n",
    "print(f\"Outliers detected using Z-score in Age: {outliers_zscore.shape[0]} outliers\")"
   ]
  },
  {
   "cell_type": "code",
   "execution_count": 12,
   "id": "76b6eecc",
   "metadata": {
    "execution": {
     "iopub.execute_input": "2025-04-08T12:34:19.983409Z",
     "iopub.status.busy": "2025-04-08T12:34:19.983009Z",
     "iopub.status.idle": "2025-04-08T12:34:19.989961Z",
     "shell.execute_reply": "2025-04-08T12:34:19.989084Z"
    },
    "papermill": {
     "duration": 0.018242,
     "end_time": "2025-04-08T12:34:19.991528",
     "exception": false,
     "start_time": "2025-04-08T12:34:19.973286",
     "status": "completed"
    },
    "tags": []
   },
   "outputs": [],
   "source": [
    "upper_limit = np.percentile(df_Selected['Age'], 97.5)\n",
    "lower_limit = np.percentile(df_Selected['Age'], 2.5)"
   ]
  },
  {
   "cell_type": "code",
   "execution_count": 13,
   "id": "d732ebe8",
   "metadata": {
    "execution": {
     "iopub.execute_input": "2025-04-08T12:34:20.010764Z",
     "iopub.status.busy": "2025-04-08T12:34:20.010423Z",
     "iopub.status.idle": "2025-04-08T12:34:20.015721Z",
     "shell.execute_reply": "2025-04-08T12:34:20.014706Z"
    },
    "papermill": {
     "duration": 0.016552,
     "end_time": "2025-04-08T12:34:20.017331",
     "exception": false,
     "start_time": "2025-04-08T12:34:20.000779",
     "status": "completed"
    },
    "tags": []
   },
   "outputs": [],
   "source": [
    "df_Selected['Age'] = df_Selected['Age'].apply(lambda x: upper_limit if x > upper_limit else (lower_limit if x < lower_limit else x))"
   ]
  },
  {
   "cell_type": "code",
   "execution_count": 14,
   "id": "1ec3f0b6",
   "metadata": {
    "execution": {
     "iopub.execute_input": "2025-04-08T12:34:20.036043Z",
     "iopub.status.busy": "2025-04-08T12:34:20.035698Z",
     "iopub.status.idle": "2025-04-08T12:34:20.043951Z",
     "shell.execute_reply": "2025-04-08T12:34:20.042920Z"
    },
    "papermill": {
     "duration": 0.019554,
     "end_time": "2025-04-08T12:34:20.045636",
     "exception": false,
     "start_time": "2025-04-08T12:34:20.026082",
     "status": "completed"
    },
    "tags": []
   },
   "outputs": [
    {
     "name": "stdout",
     "output_type": "stream",
     "text": [
      "Outliers detected using Z-score in Age: 0 outliers\n"
     ]
    }
   ],
   "source": [
    "df_Selected['Age_zscore'] = zscore(df_Selected['Age'])\n",
    "outliers_zscore = df_Selected[(df_Selected['Age_zscore'] > 3) | (df_Selected['Age_zscore'] < -3)]\n",
    "print(f\"Outliers detected using Z-score in Age: {outliers_zscore.shape[0]} outliers\")"
   ]
  },
  {
   "cell_type": "code",
   "execution_count": 15,
   "id": "30277401",
   "metadata": {
    "execution": {
     "iopub.execute_input": "2025-04-08T12:34:20.065028Z",
     "iopub.status.busy": "2025-04-08T12:34:20.064692Z",
     "iopub.status.idle": "2025-04-08T12:34:20.082015Z",
     "shell.execute_reply": "2025-04-08T12:34:20.080637Z"
    },
    "papermill": {
     "duration": 0.02915,
     "end_time": "2025-04-08T12:34:20.083801",
     "exception": false,
     "start_time": "2025-04-08T12:34:20.054651",
     "status": "completed"
    },
    "tags": []
   },
   "outputs": [
    {
     "name": "stdout",
     "output_type": "stream",
     "text": [
      "<class 'pandas.core.frame.DataFrame'>\n",
      "RangeIndex: 891 entries, 0 to 890\n",
      "Data columns (total 8 columns):\n",
      " #   Column      Non-Null Count  Dtype  \n",
      "---  ------      --------------  -----  \n",
      " 0   Survived    891 non-null    int64  \n",
      " 1   Pclass      891 non-null    int64  \n",
      " 2   Sex         891 non-null    int64  \n",
      " 3   Age         891 non-null    float64\n",
      " 4   SibSp       891 non-null    int64  \n",
      " 5   Parch       891 non-null    int64  \n",
      " 6   Fare        891 non-null    float64\n",
      " 7   Age_zscore  891 non-null    float64\n",
      "dtypes: float64(3), int64(5)\n",
      "memory usage: 55.8 KB\n"
     ]
    }
   ],
   "source": [
    "df_Selected.info()"
   ]
  },
  {
   "cell_type": "code",
   "execution_count": 16,
   "id": "3d3df98b",
   "metadata": {
    "execution": {
     "iopub.execute_input": "2025-04-08T12:34:20.103867Z",
     "iopub.status.busy": "2025-04-08T12:34:20.103555Z",
     "iopub.status.idle": "2025-04-08T12:34:20.108512Z",
     "shell.execute_reply": "2025-04-08T12:34:20.107633Z"
    },
    "papermill": {
     "duration": 0.016893,
     "end_time": "2025-04-08T12:34:20.109979",
     "exception": false,
     "start_time": "2025-04-08T12:34:20.093086",
     "status": "completed"
    },
    "tags": []
   },
   "outputs": [],
   "source": [
    "df_Selected.drop(\"Age_zscore\", axis=1, inplace=True)"
   ]
  },
  {
   "cell_type": "code",
   "execution_count": 17,
   "id": "83e96537",
   "metadata": {
    "execution": {
     "iopub.execute_input": "2025-04-08T12:34:20.128902Z",
     "iopub.status.busy": "2025-04-08T12:34:20.128577Z",
     "iopub.status.idle": "2025-04-08T12:34:20.155174Z",
     "shell.execute_reply": "2025-04-08T12:34:20.154238Z"
    },
    "papermill": {
     "duration": 0.037939,
     "end_time": "2025-04-08T12:34:20.156930",
     "exception": false,
     "start_time": "2025-04-08T12:34:20.118991",
     "status": "completed"
    },
    "tags": []
   },
   "outputs": [
    {
     "data": {
      "text/html": [
       "<div>\n",
       "<style scoped>\n",
       "    .dataframe tbody tr th:only-of-type {\n",
       "        vertical-align: middle;\n",
       "    }\n",
       "\n",
       "    .dataframe tbody tr th {\n",
       "        vertical-align: top;\n",
       "    }\n",
       "\n",
       "    .dataframe thead th {\n",
       "        text-align: right;\n",
       "    }\n",
       "</style>\n",
       "<table border=\"1\" class=\"dataframe\">\n",
       "  <thead>\n",
       "    <tr style=\"text-align: right;\">\n",
       "      <th></th>\n",
       "      <th>Survived</th>\n",
       "      <th>Pclass</th>\n",
       "      <th>Sex</th>\n",
       "      <th>Age</th>\n",
       "      <th>SibSp</th>\n",
       "      <th>Parch</th>\n",
       "      <th>Fare</th>\n",
       "    </tr>\n",
       "  </thead>\n",
       "  <tbody>\n",
       "    <tr>\n",
       "      <th>count</th>\n",
       "      <td>891.000000</td>\n",
       "      <td>891.000000</td>\n",
       "      <td>891.000000</td>\n",
       "      <td>891.000000</td>\n",
       "      <td>891.000000</td>\n",
       "      <td>891.000000</td>\n",
       "      <td>891.000000</td>\n",
       "    </tr>\n",
       "    <tr>\n",
       "      <th>mean</th>\n",
       "      <td>0.383838</td>\n",
       "      <td>2.308642</td>\n",
       "      <td>0.352413</td>\n",
       "      <td>29.619129</td>\n",
       "      <td>0.523008</td>\n",
       "      <td>0.381594</td>\n",
       "      <td>32.204208</td>\n",
       "    </tr>\n",
       "    <tr>\n",
       "      <th>std</th>\n",
       "      <td>0.486592</td>\n",
       "      <td>0.836071</td>\n",
       "      <td>0.477990</td>\n",
       "      <td>12.559998</td>\n",
       "      <td>1.102743</td>\n",
       "      <td>0.806057</td>\n",
       "      <td>49.693429</td>\n",
       "    </tr>\n",
       "    <tr>\n",
       "      <th>min</th>\n",
       "      <td>0.000000</td>\n",
       "      <td>1.000000</td>\n",
       "      <td>0.000000</td>\n",
       "      <td>2.000000</td>\n",
       "      <td>0.000000</td>\n",
       "      <td>0.000000</td>\n",
       "      <td>0.000000</td>\n",
       "    </tr>\n",
       "    <tr>\n",
       "      <th>25%</th>\n",
       "      <td>0.000000</td>\n",
       "      <td>2.000000</td>\n",
       "      <td>0.000000</td>\n",
       "      <td>22.000000</td>\n",
       "      <td>0.000000</td>\n",
       "      <td>0.000000</td>\n",
       "      <td>7.910400</td>\n",
       "    </tr>\n",
       "    <tr>\n",
       "      <th>50%</th>\n",
       "      <td>0.000000</td>\n",
       "      <td>3.000000</td>\n",
       "      <td>0.000000</td>\n",
       "      <td>30.000000</td>\n",
       "      <td>0.000000</td>\n",
       "      <td>0.000000</td>\n",
       "      <td>14.454200</td>\n",
       "    </tr>\n",
       "    <tr>\n",
       "      <th>75%</th>\n",
       "      <td>1.000000</td>\n",
       "      <td>3.000000</td>\n",
       "      <td>1.000000</td>\n",
       "      <td>35.000000</td>\n",
       "      <td>1.000000</td>\n",
       "      <td>0.000000</td>\n",
       "      <td>31.000000</td>\n",
       "    </tr>\n",
       "    <tr>\n",
       "      <th>max</th>\n",
       "      <td>1.000000</td>\n",
       "      <td>3.000000</td>\n",
       "      <td>1.000000</td>\n",
       "      <td>60.000000</td>\n",
       "      <td>8.000000</td>\n",
       "      <td>6.000000</td>\n",
       "      <td>512.329200</td>\n",
       "    </tr>\n",
       "  </tbody>\n",
       "</table>\n",
       "</div>"
      ],
      "text/plain": [
       "         Survived      Pclass         Sex         Age       SibSp       Parch  \\\n",
       "count  891.000000  891.000000  891.000000  891.000000  891.000000  891.000000   \n",
       "mean     0.383838    2.308642    0.352413   29.619129    0.523008    0.381594   \n",
       "std      0.486592    0.836071    0.477990   12.559998    1.102743    0.806057   \n",
       "min      0.000000    1.000000    0.000000    2.000000    0.000000    0.000000   \n",
       "25%      0.000000    2.000000    0.000000   22.000000    0.000000    0.000000   \n",
       "50%      0.000000    3.000000    0.000000   30.000000    0.000000    0.000000   \n",
       "75%      1.000000    3.000000    1.000000   35.000000    1.000000    0.000000   \n",
       "max      1.000000    3.000000    1.000000   60.000000    8.000000    6.000000   \n",
       "\n",
       "             Fare  \n",
       "count  891.000000  \n",
       "mean    32.204208  \n",
       "std     49.693429  \n",
       "min      0.000000  \n",
       "25%      7.910400  \n",
       "50%     14.454200  \n",
       "75%     31.000000  \n",
       "max    512.329200  "
      ]
     },
     "execution_count": 17,
     "metadata": {},
     "output_type": "execute_result"
    }
   ],
   "source": [
    "df_Selected.describe()"
   ]
  },
  {
   "cell_type": "code",
   "execution_count": 18,
   "id": "c33be9d8",
   "metadata": {
    "execution": {
     "iopub.execute_input": "2025-04-08T12:34:20.178738Z",
     "iopub.status.busy": "2025-04-08T12:34:20.178404Z",
     "iopub.status.idle": "2025-04-08T12:34:21.056706Z",
     "shell.execute_reply": "2025-04-08T12:34:21.055608Z"
    },
    "papermill": {
     "duration": 0.889722,
     "end_time": "2025-04-08T12:34:21.058241",
     "exception": false,
     "start_time": "2025-04-08T12:34:20.168519",
     "status": "completed"
    },
    "tags": []
   },
   "outputs": [
    {
     "name": "stderr",
     "output_type": "stream",
     "text": [
      "/usr/local/lib/python3.10/dist-packages/seaborn/_oldcore.py:1119: FutureWarning: use_inf_as_na option is deprecated and will be removed in a future version. Convert inf values to NaN before operating instead.\n",
      "  with pd.option_context('mode.use_inf_as_na', True):\n"
     ]
    },
    {
     "data": {
      "image/png": "[encoded data removed]",
      "text/plain": [
       "<Figure size 1000x600 with 1 Axes>"
      ]
     },
     "metadata": {},
     "output_type": "display_data"
    }
   ],
   "source": [
    "import matplotlib.pyplot as plt\n",
    "import seaborn as sns\n",
    "\n",
    "# Plotting histogram for 'Fare' column\n",
    "plt.figure(figsize=(10, 6))\n",
    "sns.histplot(df_Selected['Fare'], kde=True, bins=30, color='blue')\n",
    "plt.title('Distribution of Fare')\n",
    "plt.xlabel('Fare')\n",
    "plt.ylabel('Frequency')\n",
    "plt.show()"
   ]
  },
  {
   "cell_type": "code",
   "execution_count": 19,
   "id": "8ed18df8",
   "metadata": {
    "execution": {
     "iopub.execute_input": "2025-04-08T12:34:21.079047Z",
     "iopub.status.busy": "2025-04-08T12:34:21.078523Z",
     "iopub.status.idle": "2025-04-08T12:34:21.297331Z",
     "shell.execute_reply": "2025-04-08T12:34:21.296229Z"
    },
    "papermill": {
     "duration": 0.230998,
     "end_time": "2025-04-08T12:34:21.298902",
     "exception": false,
     "start_time": "2025-04-08T12:34:21.067904",
     "status": "completed"
    },
    "tags": []
   },
   "outputs": [
    {
     "data": {
      "image/png": "[encoded data removed]",
      "text/plain": [
       "<Figure size 800x600 with 1 Axes>"
      ]
     },
     "metadata": {},
     "output_type": "display_data"
    }
   ],
   "source": [
    "plt.figure(figsize=(8, 6))\n",
    "sns.boxplot(x=df_Selected['Fare'], color='green')\n",
    "plt.title('Boxplot of Fare')\n",
    "plt.xlabel('Fare')\n",
    "plt.show()"
   ]
  },
  {
   "cell_type": "code",
   "execution_count": 20,
   "id": "06ee0d8b",
   "metadata": {
    "execution": {
     "iopub.execute_input": "2025-04-08T12:34:21.320674Z",
     "iopub.status.busy": "2025-04-08T12:34:21.320280Z",
     "iopub.status.idle": "2025-04-08T12:34:21.327810Z",
     "shell.execute_reply": "2025-04-08T12:34:21.326721Z"
    },
    "papermill": {
     "duration": 0.020249,
     "end_time": "2025-04-08T12:34:21.329551",
     "exception": false,
     "start_time": "2025-04-08T12:34:21.309302",
     "status": "completed"
    },
    "tags": []
   },
   "outputs": [],
   "source": [
    "Q1 = df_Selected['Fare'].quantile(0.25)\n",
    "Q3 = df_Selected['Fare'].quantile(0.75)\n",
    "IQR = Q3 - Q1"
   ]
  },
  {
   "cell_type": "code",
   "execution_count": 21,
   "id": "7557ac5b",
   "metadata": {
    "execution": {
     "iopub.execute_input": "2025-04-08T12:34:21.350867Z",
     "iopub.status.busy": "2025-04-08T12:34:21.350503Z",
     "iopub.status.idle": "2025-04-08T12:34:21.354672Z",
     "shell.execute_reply": "2025-04-08T12:34:21.353709Z"
    },
    "papermill": {
     "duration": 0.016696,
     "end_time": "2025-04-08T12:34:21.356343",
     "exception": false,
     "start_time": "2025-04-08T12:34:21.339647",
     "status": "completed"
    },
    "tags": []
   },
   "outputs": [],
   "source": [
    "lower_bound = Q1 - 1.5 * IQR\n",
    "upper_bound = Q3 + 1.5 * IQR"
   ]
  },
  {
   "cell_type": "code",
   "execution_count": 22,
   "id": "ec317564",
   "metadata": {
    "execution": {
     "iopub.execute_input": "2025-04-08T12:34:21.379360Z",
     "iopub.status.busy": "2025-04-08T12:34:21.378972Z",
     "iopub.status.idle": "2025-04-08T12:34:21.384821Z",
     "shell.execute_reply": "2025-04-08T12:34:21.383475Z"
    },
    "papermill": {
     "duration": 0.019815,
     "end_time": "2025-04-08T12:34:21.386616",
     "exception": false,
     "start_time": "2025-04-08T12:34:21.366801",
     "status": "completed"
    },
    "tags": []
   },
   "outputs": [],
   "source": [
    "df_Selected['Fare'] = df_Selected['Fare'].apply(\n",
    "    lambda x: lower_bound if x < lower_bound else (upper_bound if x > upper_bound else x)\n",
    ")"
   ]
  },
  {
   "cell_type": "code",
   "execution_count": 23,
   "id": "0043401a",
   "metadata": {
    "execution": {
     "iopub.execute_input": "2025-04-08T12:34:21.408895Z",
     "iopub.status.busy": "2025-04-08T12:34:21.408555Z",
     "iopub.status.idle": "2025-04-08T12:34:21.414036Z",
     "shell.execute_reply": "2025-04-08T12:34:21.413021Z"
    },
    "papermill": {
     "duration": 0.018857,
     "end_time": "2025-04-08T12:34:21.415854",
     "exception": false,
     "start_time": "2025-04-08T12:34:21.396997",
     "status": "completed"
    },
    "tags": []
   },
   "outputs": [],
   "source": [
    "X = df_Selected.drop(\"Survived\",axis=1)\n",
    "y = df_Selected[\"Survived\"]"
   ]
  },
  {
   "cell_type": "code",
   "execution_count": 24,
   "id": "1f6e43fe",
   "metadata": {
    "execution": {
     "iopub.execute_input": "2025-04-08T12:34:21.437883Z",
     "iopub.status.busy": "2025-04-08T12:34:21.437552Z",
     "iopub.status.idle": "2025-04-08T12:34:21.443948Z",
     "shell.execute_reply": "2025-04-08T12:34:21.442895Z"
    },
    "papermill": {
     "duration": 0.019294,
     "end_time": "2025-04-08T12:34:21.445475",
     "exception": false,
     "start_time": "2025-04-08T12:34:21.426181",
     "status": "completed"
    },
    "tags": []
   },
   "outputs": [
    {
     "name": "stdout",
     "output_type": "stream",
     "text": [
      "Number of outliers after capping: 0\n"
     ]
    }
   ],
   "source": [
    "outliers_capped = df_Selected[(df_Selected['Fare'] < lower_bound) | (df_Selected['Fare'] > upper_bound)]\n",
    "print(f\"Number of outliers after capping: {outliers_capped.shape[0]}\")"
   ]
  },
  {
   "cell_type": "code",
   "execution_count": 25,
   "id": "a23eca16",
   "metadata": {
    "execution": {
     "iopub.execute_input": "2025-04-08T12:34:21.467002Z",
     "iopub.status.busy": "2025-04-08T12:34:21.466681Z",
     "iopub.status.idle": "2025-04-08T12:34:21.477137Z",
     "shell.execute_reply": "2025-04-08T12:34:21.475910Z"
    },
    "papermill": {
     "duration": 0.022967,
     "end_time": "2025-04-08T12:34:21.478823",
     "exception": false,
     "start_time": "2025-04-08T12:34:21.455856",
     "status": "completed"
    },
    "tags": []
   },
   "outputs": [
    {
     "name": "stdout",
     "output_type": "stream",
     "text": [
      "<class 'pandas.core.frame.DataFrame'>\n",
      "RangeIndex: 891 entries, 0 to 890\n",
      "Data columns (total 7 columns):\n",
      " #   Column    Non-Null Count  Dtype  \n",
      "---  ------    --------------  -----  \n",
      " 0   Survived  891 non-null    int64  \n",
      " 1   Pclass    891 non-null    int64  \n",
      " 2   Sex       891 non-null    int64  \n",
      " 3   Age       891 non-null    float64\n",
      " 4   SibSp     891 non-null    int64  \n",
      " 5   Parch     891 non-null    int64  \n",
      " 6   Fare      891 non-null    float64\n",
      "dtypes: float64(2), int64(5)\n",
      "memory usage: 48.9 KB\n"
     ]
    }
   ],
   "source": [
    "df_Selected.info()"
   ]
  },
  {
   "cell_type": "code",
   "execution_count": 26,
   "id": "f8029b1a",
   "metadata": {
    "execution": {
     "iopub.execute_input": "2025-04-08T12:34:21.500642Z",
     "iopub.status.busy": "2025-04-08T12:34:21.500308Z",
     "iopub.status.idle": "2025-04-08T12:34:21.512350Z",
     "shell.execute_reply": "2025-04-08T12:34:21.511413Z"
    },
    "papermill": {
     "duration": 0.024643,
     "end_time": "2025-04-08T12:34:21.513953",
     "exception": false,
     "start_time": "2025-04-08T12:34:21.489310",
     "status": "completed"
    },
    "tags": []
   },
   "outputs": [
    {
     "data": {
      "text/html": [
       "<div>\n",
       "<style scoped>\n",
       "    .dataframe tbody tr th:only-of-type {\n",
       "        vertical-align: middle;\n",
       "    }\n",
       "\n",
       "    .dataframe tbody tr th {\n",
       "        vertical-align: top;\n",
       "    }\n",
       "\n",
       "    .dataframe thead th {\n",
       "        text-align: right;\n",
       "    }\n",
       "</style>\n",
       "<table border=\"1\" class=\"dataframe\">\n",
       "  <thead>\n",
       "    <tr style=\"text-align: right;\">\n",
       "      <th></th>\n",
       "      <th>Pclass</th>\n",
       "      <th>Sex</th>\n",
       "      <th>Age</th>\n",
       "      <th>SibSp</th>\n",
       "      <th>Parch</th>\n",
       "      <th>Fare</th>\n",
       "    </tr>\n",
       "  </thead>\n",
       "  <tbody>\n",
       "    <tr>\n",
       "      <th>0</th>\n",
       "      <td>3</td>\n",
       "      <td>0</td>\n",
       "      <td>22.000000</td>\n",
       "      <td>1</td>\n",
       "      <td>0</td>\n",
       "      <td>7.2500</td>\n",
       "    </tr>\n",
       "    <tr>\n",
       "      <th>1</th>\n",
       "      <td>1</td>\n",
       "      <td>1</td>\n",
       "      <td>38.000000</td>\n",
       "      <td>1</td>\n",
       "      <td>0</td>\n",
       "      <td>65.6344</td>\n",
       "    </tr>\n",
       "    <tr>\n",
       "      <th>2</th>\n",
       "      <td>3</td>\n",
       "      <td>1</td>\n",
       "      <td>26.000000</td>\n",
       "      <td>0</td>\n",
       "      <td>0</td>\n",
       "      <td>7.9250</td>\n",
       "    </tr>\n",
       "    <tr>\n",
       "      <th>3</th>\n",
       "      <td>1</td>\n",
       "      <td>1</td>\n",
       "      <td>35.000000</td>\n",
       "      <td>1</td>\n",
       "      <td>0</td>\n",
       "      <td>53.1000</td>\n",
       "    </tr>\n",
       "    <tr>\n",
       "      <th>4</th>\n",
       "      <td>3</td>\n",
       "      <td>0</td>\n",
       "      <td>35.000000</td>\n",
       "      <td>0</td>\n",
       "      <td>0</td>\n",
       "      <td>8.0500</td>\n",
       "    </tr>\n",
       "    <tr>\n",
       "      <th>...</th>\n",
       "      <td>...</td>\n",
       "      <td>...</td>\n",
       "      <td>...</td>\n",
       "      <td>...</td>\n",
       "      <td>...</td>\n",
       "      <td>...</td>\n",
       "    </tr>\n",
       "    <tr>\n",
       "      <th>886</th>\n",
       "      <td>2</td>\n",
       "      <td>0</td>\n",
       "      <td>27.000000</td>\n",
       "      <td>0</td>\n",
       "      <td>0</td>\n",
       "      <td>13.0000</td>\n",
       "    </tr>\n",
       "    <tr>\n",
       "      <th>887</th>\n",
       "      <td>1</td>\n",
       "      <td>1</td>\n",
       "      <td>19.000000</td>\n",
       "      <td>0</td>\n",
       "      <td>0</td>\n",
       "      <td>30.0000</td>\n",
       "    </tr>\n",
       "    <tr>\n",
       "      <th>888</th>\n",
       "      <td>3</td>\n",
       "      <td>1</td>\n",
       "      <td>30.626179</td>\n",
       "      <td>1</td>\n",
       "      <td>2</td>\n",
       "      <td>23.4500</td>\n",
       "    </tr>\n",
       "    <tr>\n",
       "      <th>889</th>\n",
       "      <td>1</td>\n",
       "      <td>0</td>\n",
       "      <td>26.000000</td>\n",
       "      <td>0</td>\n",
       "      <td>0</td>\n",
       "      <td>30.0000</td>\n",
       "    </tr>\n",
       "    <tr>\n",
       "      <th>890</th>\n",
       "      <td>3</td>\n",
       "      <td>0</td>\n",
       "      <td>32.000000</td>\n",
       "      <td>0</td>\n",
       "      <td>0</td>\n",
       "      <td>7.7500</td>\n",
       "    </tr>\n",
       "  </tbody>\n",
       "</table>\n",
       "<p>891 rows × 6 columns</p>\n",
       "</div>"
      ],
      "text/plain": [
       "     Pclass  Sex        Age  SibSp  Parch     Fare\n",
       "0         3    0  22.000000      1      0   7.2500\n",
       "1         1    1  38.000000      1      0  65.6344\n",
       "2         3    1  26.000000      0      0   7.9250\n",
       "3         1    1  35.000000      1      0  53.1000\n",
       "4         3    0  35.000000      0      0   8.0500\n",
       "..      ...  ...        ...    ...    ...      ...\n",
       "886       2    0  27.000000      0      0  13.0000\n",
       "887       1    1  19.000000      0      0  30.0000\n",
       "888       3    1  30.626179      1      2  23.4500\n",
       "889       1    0  26.000000      0      0  30.0000\n",
       "890       3    0  32.000000      0      0   7.7500\n",
       "\n",
       "[891 rows x 6 columns]"
      ]
     },
     "execution_count": 26,
     "metadata": {},
     "output_type": "execute_result"
    }
   ],
   "source": [
    "X"
   ]
  },
  {
   "cell_type": "code",
   "execution_count": 27,
   "id": "8cd3d83b",
   "metadata": {
    "execution": {
     "iopub.execute_input": "2025-04-08T12:34:21.536617Z",
     "iopub.status.busy": "2025-04-08T12:34:21.536275Z",
     "iopub.status.idle": "2025-04-08T12:34:21.543185Z",
     "shell.execute_reply": "2025-04-08T12:34:21.542240Z"
    },
    "papermill": {
     "duration": 0.019611,
     "end_time": "2025-04-08T12:34:21.544701",
     "exception": false,
     "start_time": "2025-04-08T12:34:21.525090",
     "status": "completed"
    },
    "tags": []
   },
   "outputs": [
    {
     "data": {
      "text/plain": [
       "0      0\n",
       "1      1\n",
       "2      1\n",
       "3      1\n",
       "4      0\n",
       "      ..\n",
       "886    0\n",
       "887    1\n",
       "888    0\n",
       "889    1\n",
       "890    0\n",
       "Name: Survived, Length: 891, dtype: int64"
      ]
     },
     "execution_count": 27,
     "metadata": {},
     "output_type": "execute_result"
    }
   ],
   "source": [
    "y"
   ]
  },
  {
   "cell_type": "code",
   "execution_count": 28,
   "id": "98803062",
   "metadata": {
    "execution": {
     "iopub.execute_input": "2025-04-08T12:34:21.567350Z",
     "iopub.status.busy": "2025-04-08T12:34:21.566971Z",
     "iopub.status.idle": "2025-04-08T12:34:21.574229Z",
     "shell.execute_reply": "2025-04-08T12:34:21.573069Z"
    },
    "papermill": {
     "duration": 0.020906,
     "end_time": "2025-04-08T12:34:21.576337",
     "exception": false,
     "start_time": "2025-04-08T12:34:21.555431",
     "status": "completed"
    },
    "tags": []
   },
   "outputs": [],
   "source": [
    "X_train, X_val, y_train, y_val = train_test_split(X, y, test_size=0.2, random_state=42)"
   ]
  },
  {
   "cell_type": "code",
   "execution_count": 29,
   "id": "4f0fbbde",
   "metadata": {
    "execution": {
     "iopub.execute_input": "2025-04-08T12:34:21.600959Z",
     "iopub.status.busy": "2025-04-08T12:34:21.600617Z",
     "iopub.status.idle": "2025-04-08T12:34:21.618183Z",
     "shell.execute_reply": "2025-04-08T12:34:21.617053Z"
    },
    "papermill": {
     "duration": 0.032345,
     "end_time": "2025-04-08T12:34:21.619983",
     "exception": false,
     "start_time": "2025-04-08T12:34:21.587638",
     "status": "completed"
    },
    "tags": []
   },
   "outputs": [
    {
     "data": {
      "text/html": [
       "<style>#sk-container-id-1 {color: black;background-color: white;}#sk-container-id-1 pre{padding: 0;}#sk-container-id-1 div.sk-toggleable {background-color: white;}#sk-container-id-1 label.sk-toggleable__label {cursor: pointer;display: block;width: 100%;margin-bottom: 0;padding: 0.3em;box-sizing: border-box;text-align: center;}#sk-container-id-1 label.sk-toggleable__label-arrow:before {content: \"▸\";float: left;margin-right: 0.25em;color: #696969;}#sk-container-id-1 label.sk-toggleable__label-arrow:hover:before {color: black;}#sk-container-id-1 div.sk-estimator:hover label.sk-toggleable__label-arrow:before {color: black;}#sk-container-id-1 div.sk-toggleable__content {max-height: 0;max-width: 0;overflow: hidden;text-align: left;background-color: #f0f8ff;}#sk-container-id-1 div.sk-toggleable__content pre {margin: 0.2em;color: black;border-radius: 0.25em;background-color: #f0f8ff;}#sk-container-id-1 input.sk-toggleable__control:checked~div.sk-toggleable__content {max-height: 200px;max-width: 100%;overflow: auto;}#sk-container-id-1 input.sk-toggleable__control:checked~label.sk-toggleable__label-arrow:before {content: \"▾\";}#sk-container-id-1 div.sk-estimator input.sk-toggleable__control:checked~label.sk-toggleable__label {background-color: #d4ebff;}#sk-container-id-1 div.sk-label input.sk-toggleable__control:checked~label.sk-toggleable__label {background-color: #d4ebff;}#sk-container-id-1 input.sk-hidden--visually {border: 0;clip: rect(1px 1px 1px 1px);clip: rect(1px, 1px, 1px, 1px);height: 1px;margin: -1px;overflow: hidden;padding: 0;position: absolute;width: 1px;}#sk-container-id-1 div.sk-estimator {font-family: monospace;background-color: #f0f8ff;border: 1px dotted black;border-radius: 0.25em;box-sizing: border-box;margin-bottom: 0.5em;}#sk-container-id-1 div.sk-estimator:hover {background-color: #d4ebff;}#sk-container-id-1 div.sk-parallel-item::after {content: \"\";width: 100%;border-bottom: 1px solid gray;flex-grow: 1;}#sk-container-id-1 div.sk-label:hover label.sk-toggleable__label {background-color: #d4ebff;}#sk-container-id-1 div.sk-serial::before {content: \"\";position: absolute;border-left: 1px solid gray;box-sizing: border-box;top: 0;bottom: 0;left: 50%;z-index: 0;}#sk-container-id-1 div.sk-serial {display: flex;flex-direction: column;align-items: center;background-color: white;padding-right: 0.2em;padding-left: 0.2em;position: relative;}#sk-container-id-1 div.sk-item {position: relative;z-index: 1;}#sk-container-id-1 div.sk-parallel {display: flex;align-items: stretch;justify-content: center;background-color: white;position: relative;}#sk-container-id-1 div.sk-item::before, #sk-container-id-1 div.sk-parallel-item::before {content: \"\";position: absolute;border-left: 1px solid gray;box-sizing: border-box;top: 0;bottom: 0;left: 50%;z-index: -1;}#sk-container-id-1 div.sk-parallel-item {display: flex;flex-direction: column;z-index: 1;position: relative;background-color: white;}#sk-container-id-1 div.sk-parallel-item:first-child::after {align-self: flex-end;width: 50%;}#sk-container-id-1 div.sk-parallel-item:last-child::after {align-self: flex-start;width: 50%;}#sk-container-id-1 div.sk-parallel-item:only-child::after {width: 0;}#sk-container-id-1 div.sk-dashed-wrapped {border: 1px dashed gray;margin: 0 0.4em 0.5em 0.4em;box-sizing: border-box;padding-bottom: 0.4em;background-color: white;}#sk-container-id-1 div.sk-label label {font-family: monospace;font-weight: bold;display: inline-block;line-height: 1.2em;}#sk-container-id-1 div.sk-label-container {text-align: center;}#sk-container-id-1 div.sk-container {/* jupyter's `normalize.less` sets `[hidden] { display: none; }` but bootstrap.min.css set `[hidden] { display: none !important; }` so we also need the `!important` here to be able to override the default hidden behavior on the sphinx rendered scikit-learn.org. See: https://github.com/scikit-learn/scikit-learn/issues/21755 */display: inline-block !important;position: relative;}#sk-container-id-1 div.sk-text-repr-fallback {display: none;}</style><div id=\"sk-container-id-1\" class=\"sk-top-container\"><div class=\"sk-text-repr-fallback\"><pre>DecisionTreeClassifier(random_state=42)</pre><b>In a Jupyter environment, please rerun this cell to show the HTML representation or trust the notebook. <br />On GitHub, the HTML representation is unable to render, please try loading this page with nbviewer.org.</b></div><div class=\"sk-container\" hidden><div class=\"sk-item\"><div class=\"sk-estimator sk-toggleable\"><input class=\"sk-toggleable__control sk-hidden--visually\" id=\"sk-estimator-id-1\" type=\"checkbox\" checked><label for=\"sk-estimator-id-1\" class=\"sk-toggleable__label sk-toggleable__label-arrow\">DecisionTreeClassifier</label><div class=\"sk-toggleable__content\"><pre>DecisionTreeClassifier(random_state=42)</pre></div></div></div></div></div>"
      ],
      "text/plain": [
       "DecisionTreeClassifier(random_state=42)"
      ]
     },
     "execution_count": 29,
     "metadata": {},
     "output_type": "execute_result"
    }
   ],
   "source": [
    "clf = DecisionTreeClassifier(random_state=42)\n",
    "clf.fit(X_train, y_train)"
   ]
  },
  {
   "cell_type": "code",
   "execution_count": 30,
   "id": "5386da19",
   "metadata": {
    "execution": {
     "iopub.execute_input": "2025-04-08T12:34:21.643509Z",
     "iopub.status.busy": "2025-04-08T12:34:21.643135Z",
     "iopub.status.idle": "2025-04-08T12:34:21.651618Z",
     "shell.execute_reply": "2025-04-08T12:34:21.650458Z"
    },
    "papermill": {
     "duration": 0.022118,
     "end_time": "2025-04-08T12:34:21.653308",
     "exception": false,
     "start_time": "2025-04-08T12:34:21.631190",
     "status": "completed"
    },
    "tags": []
   },
   "outputs": [
    {
     "name": "stdout",
     "output_type": "stream",
     "text": [
      "Accuracy: 0.8212290502793296\n"
     ]
    }
   ],
   "source": [
    "y_pred = clf.predict(X_val)\n",
    "print(\"Accuracy:\", accuracy_score(y_val, y_pred))"
   ]
  },
  {
   "cell_type": "code",
   "execution_count": 31,
   "id": "ec805fee",
   "metadata": {
    "execution": {
     "iopub.execute_input": "2025-04-08T12:34:21.676321Z",
     "iopub.status.busy": "2025-04-08T12:34:21.675924Z",
     "iopub.status.idle": "2025-04-08T12:34:21.868190Z",
     "shell.execute_reply": "2025-04-08T12:34:21.867024Z"
    },
    "papermill": {
     "duration": 0.205675,
     "end_time": "2025-04-08T12:34:21.869913",
     "exception": false,
     "start_time": "2025-04-08T12:34:21.664238",
     "status": "completed"
    },
    "tags": []
   },
   "outputs": [
    {
     "data": {
      "text/html": [
       "<style>#sk-container-id-2 {color: black;background-color: white;}#sk-container-id-2 pre{padding: 0;}#sk-container-id-2 div.sk-toggleable {background-color: white;}#sk-container-id-2 label.sk-toggleable__label {cursor: pointer;display: block;width: 100%;margin-bottom: 0;padding: 0.3em;box-sizing: border-box;text-align: center;}#sk-container-id-2 label.sk-toggleable__label-arrow:before {content: \"▸\";float: left;margin-right: 0.25em;color: #696969;}#sk-container-id-2 label.sk-toggleable__label-arrow:hover:before {color: black;}#sk-container-id-2 div.sk-estimator:hover label.sk-toggleable__label-arrow:before {color: black;}#sk-container-id-2 div.sk-toggleable__content {max-height: 0;max-width: 0;overflow: hidden;text-align: left;background-color: #f0f8ff;}#sk-container-id-2 div.sk-toggleable__content pre {margin: 0.2em;color: black;border-radius: 0.25em;background-color: #f0f8ff;}#sk-container-id-2 input.sk-toggleable__control:checked~div.sk-toggleable__content {max-height: 200px;max-width: 100%;overflow: auto;}#sk-container-id-2 input.sk-toggleable__control:checked~label.sk-toggleable__label-arrow:before {content: \"▾\";}#sk-container-id-2 div.sk-estimator input.sk-toggleable__control:checked~label.sk-toggleable__label {background-color: #d4ebff;}#sk-container-id-2 div.sk-label input.sk-toggleable__control:checked~label.sk-toggleable__label {background-color: #d4ebff;}#sk-container-id-2 input.sk-hidden--visually {border: 0;clip: rect(1px 1px 1px 1px);clip: rect(1px, 1px, 1px, 1px);height: 1px;margin: -1px;overflow: hidden;padding: 0;position: absolute;width: 1px;}#sk-container-id-2 div.sk-estimator {font-family: monospace;background-color: #f0f8ff;border: 1px dotted black;border-radius: 0.25em;box-sizing: border-box;margin-bottom: 0.5em;}#sk-container-id-2 div.sk-estimator:hover {background-color: #d4ebff;}#sk-container-id-2 div.sk-parallel-item::after {content: \"\";width: 100%;border-bottom: 1px solid gray;flex-grow: 1;}#sk-container-id-2 div.sk-label:hover label.sk-toggleable__label {background-color: #d4ebff;}#sk-container-id-2 div.sk-serial::before {content: \"\";position: absolute;border-left: 1px solid gray;box-sizing: border-box;top: 0;bottom: 0;left: 50%;z-index: 0;}#sk-container-id-2 div.sk-serial {display: flex;flex-direction: column;align-items: center;background-color: white;padding-right: 0.2em;padding-left: 0.2em;position: relative;}#sk-container-id-2 div.sk-item {position: relative;z-index: 1;}#sk-container-id-2 div.sk-parallel {display: flex;align-items: stretch;justify-content: center;background-color: white;position: relative;}#sk-container-id-2 div.sk-item::before, #sk-container-id-2 div.sk-parallel-item::before {content: \"\";position: absolute;border-left: 1px solid gray;box-sizing: border-box;top: 0;bottom: 0;left: 50%;z-index: -1;}#sk-container-id-2 div.sk-parallel-item {display: flex;flex-direction: column;z-index: 1;position: relative;background-color: white;}#sk-container-id-2 div.sk-parallel-item:first-child::after {align-self: flex-end;width: 50%;}#sk-container-id-2 div.sk-parallel-item:last-child::after {align-self: flex-start;width: 50%;}#sk-container-id-2 div.sk-parallel-item:only-child::after {width: 0;}#sk-container-id-2 div.sk-dashed-wrapped {border: 1px dashed gray;margin: 0 0.4em 0.5em 0.4em;box-sizing: border-box;padding-bottom: 0.4em;background-color: white;}#sk-container-id-2 div.sk-label label {font-family: monospace;font-weight: bold;display: inline-block;line-height: 1.2em;}#sk-container-id-2 div.sk-label-container {text-align: center;}#sk-container-id-2 div.sk-container {/* jupyter's `normalize.less` sets `[hidden] { display: none; }` but bootstrap.min.css set `[hidden] { display: none !important; }` so we also need the `!important` here to be able to override the default hidden behavior on the sphinx rendered scikit-learn.org. See: https://github.com/scikit-learn/scikit-learn/issues/21755 */display: inline-block !important;position: relative;}#sk-container-id-2 div.sk-text-repr-fallback {display: none;}</style><div id=\"sk-container-id-2\" class=\"sk-top-container\"><div class=\"sk-text-repr-fallback\"><pre>RandomForestClassifier(random_state=42)</pre><b>In a Jupyter environment, please rerun this cell to show the HTML representation or trust the notebook. <br />On GitHub, the HTML representation is unable to render, please try loading this page with nbviewer.org.</b></div><div class=\"sk-container\" hidden><div class=\"sk-item\"><div class=\"sk-estimator sk-toggleable\"><input class=\"sk-toggleable__control sk-hidden--visually\" id=\"sk-estimator-id-2\" type=\"checkbox\" checked><label for=\"sk-estimator-id-2\" class=\"sk-toggleable__label sk-toggleable__label-arrow\">RandomForestClassifier</label><div class=\"sk-toggleable__content\"><pre>RandomForestClassifier(random_state=42)</pre></div></div></div></div></div>"
      ],
      "text/plain": [
       "RandomForestClassifier(random_state=42)"
      ]
     },
     "execution_count": 31,
     "metadata": {},
     "output_type": "execute_result"
    }
   ],
   "source": [
    "rf_clf = RandomForestClassifier(n_estimators=100, random_state=42)\n",
    "\n",
    "rf_clf.fit(X_train, y_train)"
   ]
  },
  {
   "cell_type": "code",
   "execution_count": 32,
   "id": "33878787",
   "metadata": {
    "execution": {
     "iopub.execute_input": "2025-04-08T12:34:21.893252Z",
     "iopub.status.busy": "2025-04-08T12:34:21.892851Z",
     "iopub.status.idle": "2025-04-08T12:34:21.907331Z",
     "shell.execute_reply": "2025-04-08T12:34:21.906216Z"
    },
    "papermill": {
     "duration": 0.028268,
     "end_time": "2025-04-08T12:34:21.909254",
     "exception": false,
     "start_time": "2025-04-08T12:34:21.880986",
     "status": "completed"
    },
    "tags": []
   },
   "outputs": [],
   "source": [
    "y_pred = rf_clf.predict(X_val)"
   ]
  },
  {
   "cell_type": "code",
   "execution_count": 33,
   "id": "5e0808be",
   "metadata": {
    "execution": {
     "iopub.execute_input": "2025-04-08T12:34:21.933204Z",
     "iopub.status.busy": "2025-04-08T12:34:21.932779Z",
     "iopub.status.idle": "2025-04-08T12:34:21.940298Z",
     "shell.execute_reply": "2025-04-08T12:34:21.939239Z"
    },
    "papermill": {
     "duration": 0.021428,
     "end_time": "2025-04-08T12:34:21.941810",
     "exception": false,
     "start_time": "2025-04-08T12:34:21.920382",
     "status": "completed"
    },
    "tags": []
   },
   "outputs": [
    {
     "name": "stdout",
     "output_type": "stream",
     "text": [
      "Accuracy: 0.8603351955307262\n"
     ]
    }
   ],
   "source": [
    "print(\"Accuracy:\", accuracy_score(y_val, y_pred))"
   ]
  },
  {
   "cell_type": "code",
   "execution_count": 34,
   "id": "35c10845",
   "metadata": {
    "execution": {
     "iopub.execute_input": "2025-04-08T12:34:21.965118Z",
     "iopub.status.busy": "2025-04-08T12:34:21.964760Z",
     "iopub.status.idle": "2025-04-08T12:34:21.976864Z",
     "shell.execute_reply": "2025-04-08T12:34:21.975716Z"
    },
    "papermill": {
     "duration": 0.025999,
     "end_time": "2025-04-08T12:34:21.978822",
     "exception": false,
     "start_time": "2025-04-08T12:34:21.952823",
     "status": "completed"
    },
    "tags": []
   },
   "outputs": [],
   "source": [
    "importances = rf_clf.feature_importances_\n",
    "feature_importance = pd.DataFrame({\"Feature\": X.columns, \"Importance\": importances})\n",
    "feature_importance = feature_importance.sort_values(by=\"Importance\", ascending=False)"
   ]
  },
  {
   "cell_type": "code",
   "execution_count": 35,
   "id": "7e5b9174",
   "metadata": {
    "execution": {
     "iopub.execute_input": "2025-04-08T12:34:22.002258Z",
     "iopub.status.busy": "2025-04-08T12:34:22.001843Z",
     "iopub.status.idle": "2025-04-08T12:34:22.008876Z",
     "shell.execute_reply": "2025-04-08T12:34:22.007654Z"
    },
    "papermill": {
     "duration": 0.020549,
     "end_time": "2025-04-08T12:34:22.010428",
     "exception": false,
     "start_time": "2025-04-08T12:34:21.989879",
     "status": "completed"
    },
    "tags": []
   },
   "outputs": [
    {
     "name": "stdout",
     "output_type": "stream",
     "text": [
      "  Feature  Importance\n",
      "2     Age    0.323262\n",
      "1     Sex    0.259180\n",
      "5    Fare    0.240445\n",
      "0  Pclass    0.088760\n",
      "3   SibSp    0.050231\n",
      "4   Parch    0.038121\n"
     ]
    }
   ],
   "source": [
    "print(feature_importance)"
   ]
  },
  {
   "cell_type": "code",
   "execution_count": 36,
   "id": "f931cbe2",
   "metadata": {
    "execution": {
     "iopub.execute_input": "2025-04-08T12:34:22.034182Z",
     "iopub.status.busy": "2025-04-08T12:34:22.033796Z",
     "iopub.status.idle": "2025-04-08T12:34:22.038264Z",
     "shell.execute_reply": "2025-04-08T12:34:22.037199Z"
    },
    "papermill": {
     "duration": 0.018136,
     "end_time": "2025-04-08T12:34:22.039819",
     "exception": false,
     "start_time": "2025-04-08T12:34:22.021683",
     "status": "completed"
    },
    "tags": []
   },
   "outputs": [],
   "source": [
    "dtree = DecisionTreeClassifier(random_state=42)"
   ]
  },
  {
   "cell_type": "code",
   "execution_count": 37,
   "id": "a49fe751",
   "metadata": {
    "execution": {
     "iopub.execute_input": "2025-04-08T12:34:22.063270Z",
     "iopub.status.busy": "2025-04-08T12:34:22.062889Z",
     "iopub.status.idle": "2025-04-08T12:34:22.067347Z",
     "shell.execute_reply": "2025-04-08T12:34:22.066250Z"
    },
    "papermill": {
     "duration": 0.018,
     "end_time": "2025-04-08T12:34:22.068925",
     "exception": false,
     "start_time": "2025-04-08T12:34:22.050925",
     "status": "completed"
    },
    "tags": []
   },
   "outputs": [],
   "source": [
    "bagging_model = BaggingClassifier(base_estimator=dtree, n_estimators=100, random_state=42)"
   ]
  },
  {
   "cell_type": "code",
   "execution_count": 38,
   "id": "deaf91a6",
   "metadata": {
    "execution": {
     "iopub.execute_input": "2025-04-08T12:34:22.092291Z",
     "iopub.status.busy": "2025-04-08T12:34:22.091918Z",
     "iopub.status.idle": "2025-04-08T12:34:22.401044Z",
     "shell.execute_reply": "2025-04-08T12:34:22.399934Z"
    },
    "papermill": {
     "duration": 0.322914,
     "end_time": "2025-04-08T12:34:22.402788",
     "exception": false,
     "start_time": "2025-04-08T12:34:22.079874",
     "status": "completed"
    },
    "tags": []
   },
   "outputs": [
    {
     "name": "stderr",
     "output_type": "stream",
     "text": [
      "/usr/local/lib/python3.10/dist-packages/sklearn/ensemble/_base.py:166: FutureWarning: `base_estimator` was renamed to `estimator` in version 1.2 and will be removed in 1.4.\n",
      "  warnings.warn(\n"
     ]
    },
    {
     "data": {
      "text/html": [
       "<style>#sk-container-id-3 {color: black;background-color: white;}#sk-container-id-3 pre{padding: 0;}#sk-container-id-3 div.sk-toggleable {background-color: white;}#sk-container-id-3 label.sk-toggleable__label {cursor: pointer;display: block;width: 100%;margin-bottom: 0;padding: 0.3em;box-sizing: border-box;text-align: center;}#sk-container-id-3 label.sk-toggleable__label-arrow:before {content: \"▸\";float: left;margin-right: 0.25em;color: #696969;}#sk-container-id-3 label.sk-toggleable__label-arrow:hover:before {color: black;}#sk-container-id-3 div.sk-estimator:hover label.sk-toggleable__label-arrow:before {color: black;}#sk-container-id-3 div.sk-toggleable__content {max-height: 0;max-width: 0;overflow: hidden;text-align: left;background-color: #f0f8ff;}#sk-container-id-3 div.sk-toggleable__content pre {margin: 0.2em;color: black;border-radius: 0.25em;background-color: #f0f8ff;}#sk-container-id-3 input.sk-toggleable__control:checked~div.sk-toggleable__content {max-height: 200px;max-width: 100%;overflow: auto;}#sk-container-id-3 input.sk-toggleable__control:checked~label.sk-toggleable__label-arrow:before {content: \"▾\";}#sk-container-id-3 div.sk-estimator input.sk-toggleable__control:checked~label.sk-toggleable__label {background-color: #d4ebff;}#sk-container-id-3 div.sk-label input.sk-toggleable__control:checked~label.sk-toggleable__label {background-color: #d4ebff;}#sk-container-id-3 input.sk-hidden--visually {border: 0;clip: rect(1px 1px 1px 1px);clip: rect(1px, 1px, 1px, 1px);height: 1px;margin: -1px;overflow: hidden;padding: 0;position: absolute;width: 1px;}#sk-container-id-3 div.sk-estimator {font-family: monospace;background-color: #f0f8ff;border: 1px dotted black;border-radius: 0.25em;box-sizing: border-box;margin-bottom: 0.5em;}#sk-container-id-3 div.sk-estimator:hover {background-color: #d4ebff;}#sk-container-id-3 div.sk-parallel-item::after {content: \"\";width: 100%;border-bottom: 1px solid gray;flex-grow: 1;}#sk-container-id-3 div.sk-label:hover label.sk-toggleable__label {background-color: #d4ebff;}#sk-container-id-3 div.sk-serial::before {content: \"\";position: absolute;border-left: 1px solid gray;box-sizing: border-box;top: 0;bottom: 0;left: 50%;z-index: 0;}#sk-container-id-3 div.sk-serial {display: flex;flex-direction: column;align-items: center;background-color: white;padding-right: 0.2em;padding-left: 0.2em;position: relative;}#sk-container-id-3 div.sk-item {position: relative;z-index: 1;}#sk-container-id-3 div.sk-parallel {display: flex;align-items: stretch;justify-content: center;background-color: white;position: relative;}#sk-container-id-3 div.sk-item::before, #sk-container-id-3 div.sk-parallel-item::before {content: \"\";position: absolute;border-left: 1px solid gray;box-sizing: border-box;top: 0;bottom: 0;left: 50%;z-index: -1;}#sk-container-id-3 div.sk-parallel-item {display: flex;flex-direction: column;z-index: 1;position: relative;background-color: white;}#sk-container-id-3 div.sk-parallel-item:first-child::after {align-self: flex-end;width: 50%;}#sk-container-id-3 div.sk-parallel-item:last-child::after {align-self: flex-start;width: 50%;}#sk-container-id-3 div.sk-parallel-item:only-child::after {width: 0;}#sk-container-id-3 div.sk-dashed-wrapped {border: 1px dashed gray;margin: 0 0.4em 0.5em 0.4em;box-sizing: border-box;padding-bottom: 0.4em;background-color: white;}#sk-container-id-3 div.sk-label label {font-family: monospace;font-weight: bold;display: inline-block;line-height: 1.2em;}#sk-container-id-3 div.sk-label-container {text-align: center;}#sk-container-id-3 div.sk-container {/* jupyter's `normalize.less` sets `[hidden] { display: none; }` but bootstrap.min.css set `[hidden] { display: none !important; }` so we also need the `!important` here to be able to override the default hidden behavior on the sphinx rendered scikit-learn.org. See: https://github.com/scikit-learn/scikit-learn/issues/21755 */display: inline-block !important;position: relative;}#sk-container-id-3 div.sk-text-repr-fallback {display: none;}</style><div id=\"sk-container-id-3\" class=\"sk-top-container\"><div class=\"sk-text-repr-fallback\"><pre>BaggingClassifier(base_estimator=DecisionTreeClassifier(random_state=42),\n",
       "                  n_estimators=100, random_state=42)</pre><b>In a Jupyter environment, please rerun this cell to show the HTML representation or trust the notebook. <br />On GitHub, the HTML representation is unable to render, please try loading this page with nbviewer.org.</b></div><div class=\"sk-container\" hidden><div class=\"sk-item sk-dashed-wrapped\"><div class=\"sk-label-container\"><div class=\"sk-label sk-toggleable\"><input class=\"sk-toggleable__control sk-hidden--visually\" id=\"sk-estimator-id-3\" type=\"checkbox\" ><label for=\"sk-estimator-id-3\" class=\"sk-toggleable__label sk-toggleable__label-arrow\">BaggingClassifier</label><div class=\"sk-toggleable__content\"><pre>BaggingClassifier(base_estimator=DecisionTreeClassifier(random_state=42),\n",
       "                  n_estimators=100, random_state=42)</pre></div></div></div><div class=\"sk-parallel\"><div class=\"sk-parallel-item\"><div class=\"sk-item\"><div class=\"sk-label-container\"><div class=\"sk-label sk-toggleable\"><input class=\"sk-toggleable__control sk-hidden--visually\" id=\"sk-estimator-id-4\" type=\"checkbox\" ><label for=\"sk-estimator-id-4\" class=\"sk-toggleable__label sk-toggleable__label-arrow\">base_estimator: DecisionTreeClassifier</label><div class=\"sk-toggleable__content\"><pre>DecisionTreeClassifier(random_state=42)</pre></div></div></div><div class=\"sk-serial\"><div class=\"sk-item\"><div class=\"sk-estimator sk-toggleable\"><input class=\"sk-toggleable__control sk-hidden--visually\" id=\"sk-estimator-id-5\" type=\"checkbox\" ><label for=\"sk-estimator-id-5\" class=\"sk-toggleable__label sk-toggleable__label-arrow\">DecisionTreeClassifier</label><div class=\"sk-toggleable__content\"><pre>DecisionTreeClassifier(random_state=42)</pre></div></div></div></div></div></div></div></div></div></div>"
      ],
      "text/plain": [
       "BaggingClassifier(base_estimator=DecisionTreeClassifier(random_state=42),\n",
       "                  n_estimators=100, random_state=42)"
      ]
     },
     "execution_count": 38,
     "metadata": {},
     "output_type": "execute_result"
    }
   ],
   "source": [
    "bagging_model.fit(X_train, y_train)"
   ]
  },
  {
   "cell_type": "code",
   "execution_count": 39,
   "id": "81cff824",
   "metadata": {
    "execution": {
     "iopub.execute_input": "2025-04-08T12:34:22.427165Z",
     "iopub.status.busy": "2025-04-08T12:34:22.426811Z",
     "iopub.status.idle": "2025-04-08T12:34:22.446287Z",
     "shell.execute_reply": "2025-04-08T12:34:22.445337Z"
    },
    "papermill": {
     "duration": 0.033835,
     "end_time": "2025-04-08T12:34:22.448122",
     "exception": false,
     "start_time": "2025-04-08T12:34:22.414287",
     "status": "completed"
    },
    "tags": []
   },
   "outputs": [],
   "source": [
    "y_pred = bagging_model.predict(X_val)"
   ]
  },
  {
   "cell_type": "code",
   "execution_count": 40,
   "id": "06fd86a4",
   "metadata": {
    "execution": {
     "iopub.execute_input": "2025-04-08T12:34:22.474357Z",
     "iopub.status.busy": "2025-04-08T12:34:22.473824Z",
     "iopub.status.idle": "2025-04-08T12:34:22.482001Z",
     "shell.execute_reply": "2025-04-08T12:34:22.480697Z"
    },
    "papermill": {
     "duration": 0.02416,
     "end_time": "2025-04-08T12:34:22.484128",
     "exception": false,
     "start_time": "2025-04-08T12:34:22.459968",
     "status": "completed"
    },
    "tags": []
   },
   "outputs": [
    {
     "name": "stdout",
     "output_type": "stream",
     "text": [
      "Accuracy of Bagging with Decision Tree: 0.8603\n"
     ]
    }
   ],
   "source": [
    "accuracy = accuracy_score(y_val, y_pred)\n",
    "print(f\"Accuracy of Bagging with Decision Tree: {accuracy:.4f}\")"
   ]
  },
  {
   "cell_type": "code",
   "execution_count": null,
   "id": "9fc4227d",
   "metadata": {
    "papermill": {
     "duration": 0.012867,
     "end_time": "2025-04-08T12:34:22.512677",
     "exception": false,
     "start_time": "2025-04-08T12:34:22.499810",
     "status": "completed"
    },
    "tags": []
   },
   "outputs": [],
   "source": []
  }
 ],
 "metadata": {
  "kaggle": {
   "accelerator": "none",
   "dataSources": [
    {
     "databundleVersionId": 9565988,
     "sourceId": 84995,
     "sourceType": "competition"
    }
   ],
   "dockerImageVersionId": 30918,
   "isGpuEnabled": false,
   "isInternetEnabled": true,
   "language": "python",
   "sourceType": "notebook"
  },
  "kernelspec": {
   "display_name": "Python 3",
   "language": "python",
   "name": "python3"
  },
  "language_info": {
   "codemirror_mode": {
    "name": "ipython",
    "version": 3
   },
   "file_extension": ".py",
   "mimetype": "text/x-python",
   "name": "python",
   "nbconvert_exporter": "python",
   "pygments_lexer": "ipython3",
   "version": "3.10.12"
  },
  "papermill": {
   "default_parameters": {},
   "duration": 9.462174,
   "end_time": "2025-04-08T12:34:23.247296",
   "environment_variables": {},
   "exception": null,
   "input_path": "__notebook__.ipynb",
   "output_path": "__notebook__.ipynb",
   "parameters": {},
   "start_time": "2025-04-08T12:34:13.785122",
   "version": "2.6.0"
  }
 },
 "nbformat": 4,
 "nbformat_minor": 5
}
